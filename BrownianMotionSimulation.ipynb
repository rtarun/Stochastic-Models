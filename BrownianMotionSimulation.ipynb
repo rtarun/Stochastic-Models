{
 "cells": [
  {
   "cell_type": "code",
   "execution_count": 24,
   "metadata": {
    "collapsed": false
   },
   "outputs": [
    {
     "name": "stdout",
     "output_type": "stream",
     "text": [
      "BM Simulation:\n",
      "t= 0.7 : B[t]= -1.263217888798624\n",
      "t= 2.6 : B[t]= -1.1305920656341888\n",
      "t= 8 : B[t]= -4.543266489902857\n",
      "t= 10.5 : B[t]= -8.394721502020568\n",
      "t= 15 : B[t]= -3.7062154290847102\n"
     ]
    }
   ],
   "source": [
    "#Qn 6: Simulating Brownian Motion\n",
    "\n",
    "import numpy\n",
    "import random\n",
    "import math\n",
    "\n",
    "def BM(time):\n",
    "    tk=[0,]\n",
    "    tk.extend(time)\n",
    "    Btk=[0,]\n",
    "    for i in range(1,len(tk)):\n",
    "        Btk.append(Btk[-1]+math.sqrt(tk[i]-tk[i-1])*numpy.random.randn())\n",
    "    return tk, Btk\n",
    "\n",
    "def SimResult(time):\n",
    "    tk, Btk = BM(time)\n",
    "    print(\"BM Simulation:\")\n",
    "    for i in range(1,len(Btk)):\n",
    "        print(\"t=\",tk[i], \": B[t]=\",Btk[i])\n",
    "        \n",
    "Tk = [0.7,2.6,8,10.5,15]\n",
    "SimResult(Tk)"
   ]
  }
 ],
 "metadata": {
  "kernelspec": {
   "display_name": "Python 3",
   "language": "python",
   "name": "python3"
  },
  "language_info": {
   "codemirror_mode": {
    "name": "ipython",
    "version": 3
   },
   "file_extension": ".py",
   "mimetype": "text/x-python",
   "name": "python",
   "nbconvert_exporter": "python",
   "pygments_lexer": "ipython3",
   "version": "3.5.1"
  }
 },
 "nbformat": 4,
 "nbformat_minor": 0
}
