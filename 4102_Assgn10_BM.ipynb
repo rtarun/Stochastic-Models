{
 "cells": [
  {
   "cell_type": "code",
   "execution_count": 80,
   "metadata": {
    "collapsed": false,
    "scrolled": true
   },
   "outputs": [
    {
     "name": "stdout",
     "output_type": "stream",
     "text": [
      "(-1.1301636425517192, -0.8857968057355396)\n"
     ]
    }
   ],
   "source": [
    "##Q1 Polar method algorithm for generating IID pairs\n",
    "\n",
    "import math\n",
    "import random\n",
    "\n",
    "def PolarAlgo():\n",
    "    U1 = random.random()\n",
    "    U2 = random.random()\n",
    "\n",
    "    R2 = -2*math.log(U1)\n",
    "    theta = 2*math.pi*U2\n",
    "\n",
    "    R = math.sqrt(R2)\n",
    "\n",
    "    X = R*math.cos(theta)\n",
    "    Y = R*math.sin(theta)\n",
    "\n",
    "    return X,Y\n",
    "    \n",
    "print(PolarAlgo())    \n"
   ]
  },
  {
   "cell_type": "code",
   "execution_count": 200,
   "metadata": {
    "collapsed": false
   },
   "outputs": [
    {
     "name": "stdout",
     "output_type": "stream",
     "text": [
      "Pbar = 0.0258\n",
      "Confidence Interval for n = 5000 is:  0.0301944546277 0.0214055453723 \n",
      "\n",
      "Pbar = 0.0256666666667\n",
      "Confidence Interval for n = 10000 is:  0.0287661876935 0.0225671456399 \n",
      "\n"
     ]
    }
   ],
   "source": [
    "##Q2 Monte Carlo simulation to estimate probability\n",
    "\n",
    "import numpy\n",
    "\n",
    "Z = list()\n",
    "\n",
    "def MCSimluation(n):\n",
    "    for i in range(0,round(n/2)):\n",
    "        a,b = PolarAlgo()\n",
    "        if a>1.96:\n",
    "            a=1\n",
    "        else:\n",
    "            a=0\n",
    "        \n",
    "        if b>1.96:\n",
    "            b=1\n",
    "        else:\n",
    "            b=0\n",
    "        \n",
    "        Z.extend([a,b])\n",
    "        \n",
    "    Pbar = numpy.mean(Z) \n",
    "    \n",
    "    CI_H=Pbar+(1.96*(math.sqrt(Pbar*(1-Pbar))))/(math.sqrt(n))\n",
    "    CI_L=Pbar-(1.96*(math.sqrt(Pbar*(1-Pbar))))/(math.sqrt(n))\n",
    "        \n",
    "    print(\"Pbar =\", Pbar)\n",
    "    print(\"Confidence Interval for n =\", n ,\"is: \", CI_H, CI_L,\"\\n\")\n",
    "\n",
    "MCSimluation(5000)\n",
    "MCSimluation(10000)"
   ]
  }
 ],
 "metadata": {
  "kernelspec": {
   "display_name": "Python 3",
   "language": "python",
   "name": "python3"
  },
  "language_info": {
   "codemirror_mode": {
    "name": "ipython",
    "version": 3
   },
   "file_extension": ".py",
   "mimetype": "text/x-python",
   "name": "python",
   "nbconvert_exporter": "python",
   "pygments_lexer": "ipython3",
   "version": "3.5.1"
  }
 },
 "nbformat": 4,
 "nbformat_minor": 0
}
